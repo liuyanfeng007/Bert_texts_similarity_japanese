{
 "cells": [
  {
   "cell_type": "code",
   "execution_count": 6,
   "id": "a80e8f3f",
   "metadata": {},
   "outputs": [],
   "source": [
    "import pickle\n",
    "from transformers import BertJapaneseTokenizer, BertForMaskedLM\n",
    "import pandas as pd\n",
    "import json\n",
    "import matplotlib.pyplot as plt\n",
    "import tensorflow as tf\n",
    "import joblib"
   ]
  },
  {
   "cell_type": "code",
   "execution_count": 8,
   "id": "6189a093",
   "metadata": {},
   "outputs": [],
   "source": [
    "import seaborn as sns\n",
    "import collections"
   ]
  },
  {
   "cell_type": "code",
   "execution_count": 9,
   "id": "2fa3ba70",
   "metadata": {},
   "outputs": [],
   "source": [
    "df = joblib.load(\"texts_orinal_data.pkl\")\n",
    "df = df[[\"caption\",\"caption_pos\",\"caption_neg\"]]\n",
    "def make_l(v):\n",
    "    return len(v)\n",
    "for col in [\"caption\",\"caption_pos\",\"caption_neg\"]:\n",
    "    df[col+\"_L\"] = df[col].apply(make_l)"
   ]
  },
  {
   "cell_type": "code",
   "execution_count": 10,
   "id": "098c1f77",
   "metadata": {},
   "outputs": [
    {
     "data": {
      "text/plain": [
       "count    122810.000000\n",
       "mean         21.299919\n",
       "std           5.931135\n",
       "min           6.000000\n",
       "10%          15.000000\n",
       "20%          17.000000\n",
       "30%          18.000000\n",
       "40%          19.000000\n",
       "50%          20.000000\n",
       "60%          21.000000\n",
       "70%          23.000000\n",
       "80%          25.000000\n",
       "90%          29.000000\n",
       "100%        119.000000\n",
       "max         119.000000\n",
       "Name: caption_L, dtype: float64"
      ]
     },
     "execution_count": 10,
     "metadata": {},
     "output_type": "execute_result"
    }
   ],
   "source": [
    "df[\"caption_L\"].describe(percentiles=[0.1,0.2,0.3,0.4,0.5,0.6,0.7,0.8,0.9,1.0])"
   ]
  },
  {
   "cell_type": "code",
   "execution_count": 11,
   "id": "d91088d5",
   "metadata": {},
   "outputs": [
    {
     "data": {
      "text/plain": [
       "count    122810.000000\n",
       "mean         21.295155\n",
       "std           5.989772\n",
       "min           7.000000\n",
       "10%          15.000000\n",
       "20%          17.000000\n",
       "30%          18.000000\n",
       "40%          19.000000\n",
       "50%          20.000000\n",
       "60%          21.000000\n",
       "70%          23.000000\n",
       "80%          25.000000\n",
       "90%          29.000000\n",
       "100%        108.000000\n",
       "max         108.000000\n",
       "Name: caption_pos_L, dtype: float64"
      ]
     },
     "execution_count": 11,
     "metadata": {},
     "output_type": "execute_result"
    }
   ],
   "source": [
    "df[\"caption_pos_L\"].describe(percentiles=[0.1,0.2,0.3,0.4,0.5,0.6,0.7,0.8,0.9,1.0])"
   ]
  },
  {
   "cell_type": "code",
   "execution_count": 12,
   "id": "3e8ca823",
   "metadata": {},
   "outputs": [
    {
     "data": {
      "text/plain": [
       "count    122810.000000\n",
       "mean         20.949043\n",
       "std           5.812047\n",
       "min           2.000000\n",
       "10%          15.000000\n",
       "20%          16.000000\n",
       "30%          17.000000\n",
       "40%          18.000000\n",
       "50%          20.000000\n",
       "60%          21.000000\n",
       "70%          23.000000\n",
       "80%          25.000000\n",
       "90%          28.000000\n",
       "100%        149.000000\n",
       "max         149.000000\n",
       "Name: caption_neg_L, dtype: float64"
      ]
     },
     "execution_count": 12,
     "metadata": {},
     "output_type": "execute_result"
    }
   ],
   "source": [
    "df[\"caption_neg_L\"].describe(percentiles=[0.1,0.2,0.3,0.4,0.5,0.6,0.7,0.8,0.9,1.0])"
   ]
  },
  {
   "cell_type": "code",
   "execution_count": 13,
   "id": "26ea6bf4",
   "metadata": {},
   "outputs": [
    {
     "name": "stderr",
     "output_type": "stream",
     "text": [
      "The tokenizer class you load from this checkpoint is not the same type as the class this function is called from. It may result in unexpected tokenization. \n",
      "The tokenizer class you load from this checkpoint is 'BertJapaneseTokenizer'. \n",
      "The class this function is called from is 'DistilBertTokenizer'.\n"
     ]
    }
   ],
   "source": [
    "from transformers import DistilBertTokenizer\n",
    "max_seq_length = 28\n",
    "train_output_file = \"texts_train_data.tfrecord\"\n",
    "test_output_file = \"texts_test_data.tfrecord\"\n",
    "tokenizer = DistilBertTokenizer.from_pretrained(\"cl-tohoku/bert-base-japanese-whole-word-masking\")"
   ]
  },
  {
   "cell_type": "code",
   "execution_count": 16,
   "id": "5a8386d6",
   "metadata": {},
   "outputs": [],
   "source": [
    "def create_code(text1,text2,label_id,tf_record_writer):\n",
    "    all_features = collections.OrderedDict()\n",
    "    #encode_plus_tokens = tokenizer.encode_plus(f\"{text1}[SEP]{text2}\",padding='max_length',max_length=max_seq_length*2,truncation=True)\n",
    "    encode_plus_tokens = tokenizer.encode_plus(text1,padding='max_length',max_length=max_seq_length,truncation=True)\n",
    "    input_ids1 = encode_plus_tokens[\"input_ids\"]\n",
    "    input_mask1 = encode_plus_tokens[\"attention_mask\"]\n",
    "    segment_ids1 = [0] *max_seq_length\n",
    "    \n",
    "    encode_plus_tokens = tokenizer.encode_plus(text2,padding='max_length',max_length=max_seq_length,truncation=True)\n",
    "    input_ids2 = encode_plus_tokens[\"input_ids\"]\n",
    "    input_mask2 = encode_plus_tokens[\"attention_mask\"]\n",
    "    segment_ids2 = [0] *max_seq_length\n",
    "\n",
    "    #label_id = text = dt[\"Y\"][i]\n",
    "    all_features[\"input_ids1\"] = tf.train.Feature(int64_list=tf.train.Int64List(value=input_ids1))\n",
    "    all_features[\"input_mask1\"] = tf.train.Feature(int64_list=tf.train.Int64List(value=input_mask1))\n",
    "    all_features[\"segment_ids1\"] = tf.train.Feature(int64_list=tf.train.Int64List(value=segment_ids1))\n",
    "    all_features[\"input_ids2\"] = tf.train.Feature(int64_list=tf.train.Int64List(value=input_ids2))\n",
    "    all_features[\"input_mask2\"] = tf.train.Feature(int64_list=tf.train.Int64List(value=input_mask2))\n",
    "    all_features[\"segment_ids2\"] = tf.train.Feature(int64_list=tf.train.Int64List(value=segment_ids2))\n",
    "    all_features[\"label_ids\"] = tf.train.Feature(int64_list=tf.train.Int64List(value=[label_id]))\n",
    "    tf_record = tf.train.Example(features=tf.train.Features(feature=all_features))\n",
    "    tf_record_writer.write(tf_record.SerializeToString())\n",
    "def create_tf_data_file(dt,output_file):\n",
    "    tf_record_writer = tf.io.TFRecordWriter(output_file)\n",
    "    for i in range(dt.shape[0]):\n",
    "        #label_id = i%2\n",
    "        text1 = dt[\"caption\"][i][0:max_seq_length]\n",
    "        text2 = dt[\"caption_pos\"][i][0:max_seq_length]\n",
    "        text3 = dt[\"caption_neg\"][i][0:max_seq_length]\n",
    "        create_code(text1,text2,1,tf_record_writer)\n",
    "        create_code(text1,text3,0,tf_record_writer)\n",
    "    tf_record_writer.close()"
   ]
  },
  {
   "cell_type": "code",
   "execution_count": 17,
   "id": "dd72d13d",
   "metadata": {},
   "outputs": [],
   "source": [
    "from sklearn.model_selection import train_test_split\n",
    "dt_train,dt_test = train_test_split(df,test_size=0.2)\n",
    "dt_train = dt_train.reset_index()\n",
    "dt_test = dt_test.reset_index()"
   ]
  },
  {
   "cell_type": "code",
   "execution_count": 18,
   "id": "22825627",
   "metadata": {},
   "outputs": [],
   "source": [
    "create_tf_data_file(dt_train,train_output_file)\n",
    "create_tf_data_file(dt_test,test_output_file)"
   ]
  },
  {
   "cell_type": "code",
   "execution_count": 29,
   "id": "ffd6ecbe",
   "metadata": {},
   "outputs": [
    {
     "data": {
      "text/plain": [
       "1"
      ]
     },
     "execution_count": 29,
     "metadata": {},
     "output_type": "execute_result"
    }
   ],
   "source": [
    "9%2"
   ]
  },
  {
   "cell_type": "code",
   "execution_count": 12,
   "id": "5a53cb09",
   "metadata": {},
   "outputs": [
    {
     "data": {
      "text/plain": [
       "{'input_ids': [2, 1563, 173, 233, 1285, 3, 1563, 173, 233, 1285, 3, 0, 0, 0, 0, 0, 0, 0, 0, 0, 0, 0, 0, 0, 0, 0, 0, 0, 0, 0, 0, 0, 0, 0, 0, 0, 0, 0, 0, 0, 0, 0, 0, 0, 0, 0, 0, 0, 0, 0, 0, 0, 0, 0, 0, 0], 'attention_mask': [1, 1, 1, 1, 1, 1, 1, 1, 1, 1, 1, 0, 0, 0, 0, 0, 0, 0, 0, 0, 0, 0, 0, 0, 0, 0, 0, 0, 0, 0, 0, 0, 0, 0, 0, 0, 0, 0, 0, 0, 0, 0, 0, 0, 0, 0, 0, 0, 0, 0, 0, 0, 0, 0, 0, 0]}"
      ]
     },
     "execution_count": 12,
     "metadata": {},
     "output_type": "execute_result"
    }
   ],
   "source": [
    "text1 ='夜場所口'\n",
    "text2 ='夜場所口'\n",
    "tokenizer.encode_plus(f\"{text1}[SEP]{text2}\",padding='max_length',max_length=max_seq_length*2,truncation=True)"
   ]
  },
  {
   "cell_type": "code",
   "execution_count": 20,
   "id": "1df9a651",
   "metadata": {},
   "outputs": [
    {
     "data": {
      "text/plain": [
       "56"
      ]
     },
     "execution_count": 20,
     "metadata": {},
     "output_type": "execute_result"
    }
   ],
   "source": [
    "len([2, 594, 335, 14, 98, 843, 291, 7, 287, 53, 581, 1582, 46, 28355, 3, 0, 0, 0, 0, 0, 0, 0, 0, 0, 0, 0, 0, 0, 0, 0, 0, 0, 0, 0, 0, 0, 0, 0, 0, 0, 0, 0, 0, 0, 0, 0, 0, 0, 0, 0, 0, 0, 0, 0, 0, 0])"
   ]
  },
  {
   "cell_type": "code",
   "execution_count": 23,
   "id": "c8ecb099",
   "metadata": {},
   "outputs": [
    {
     "data": {
      "text/plain": [
       "56"
      ]
     },
     "execution_count": 23,
     "metadata": {},
     "output_type": "execute_result"
    }
   ],
   "source": [
    "len([1, 1, 1, 1, 1, 1, 1, 1, 1, 1, 1, 1, 1, 1, 1, 0, 0, 0, 0, 0, 0, 0, 0, 0, 0, 0, 0, 0, 0, 0, 0, 0, 0, 0, 0, 0, 0, 0, 0, 0, 0, 0, 0, 0, 0, 0, 0, 0, 0, 0, 0, 0, 0, 0, 0, 0])"
   ]
  },
  {
   "cell_type": "code",
   "execution_count": 58,
   "id": "37a2f564",
   "metadata": {},
   "outputs": [
    {
     "data": {
      "text/plain": [
       "(98248, 7)"
      ]
     },
     "execution_count": 58,
     "metadata": {},
     "output_type": "execute_result"
    }
   ],
   "source": [
    "dt_train.shape"
   ]
  },
  {
   "cell_type": "code",
   "execution_count": 59,
   "id": "928728fa",
   "metadata": {},
   "outputs": [
    {
     "data": {
      "text/plain": [
       "(24562, 7)"
      ]
     },
     "execution_count": 59,
     "metadata": {},
     "output_type": "execute_result"
    }
   ],
   "source": [
    "dt_test.shape"
   ]
  },
  {
   "cell_type": "code",
   "execution_count": 60,
   "id": "ef5de6c5",
   "metadata": {},
   "outputs": [],
   "source": []
  },
  {
   "cell_type": "code",
   "execution_count": null,
   "id": "1454ab82",
   "metadata": {},
   "outputs": [],
   "source": []
  }
 ],
 "metadata": {
  "kernelspec": {
   "display_name": "Python 3 (ipykernel)",
   "language": "python",
   "name": "python3"
  },
  "language_info": {
   "codemirror_mode": {
    "name": "ipython",
    "version": 3
   },
   "file_extension": ".py",
   "mimetype": "text/x-python",
   "name": "python",
   "nbconvert_exporter": "python",
   "pygments_lexer": "ipython3",
   "version": "3.7.7"
  }
 },
 "nbformat": 4,
 "nbformat_minor": 5
}
