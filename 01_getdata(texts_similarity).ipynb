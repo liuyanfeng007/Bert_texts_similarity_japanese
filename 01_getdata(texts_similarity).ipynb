{
 "cells": [
  {
   "cell_type": "markdown",
   "id": "b718460b",
   "metadata": {},
   "source": [
    "# download data from link as below...."
   ]
  },
  {
   "cell_type": "markdown",
   "id": "b2e73a80",
   "metadata": {},
   "source": [
    "### #https://github.com/STAIR-Lab-CIT/STAIR-captions\n",
    "### #stair_captions_v1.2.tar.gz"
   ]
  }
 ],
 "metadata": {
  "kernelspec": {
   "display_name": "Python 3 (ipykernel)",
   "language": "python",
   "name": "python3"
  },
  "language_info": {
   "codemirror_mode": {
    "name": "ipython",
    "version": 3
   },
   "file_extension": ".py",
   "mimetype": "text/x-python",
   "name": "python",
   "nbconvert_exporter": "python",
   "pygments_lexer": "ipython3",
   "version": "3.7.7"
  }
 },
 "nbformat": 4,
 "nbformat_minor": 5
}
